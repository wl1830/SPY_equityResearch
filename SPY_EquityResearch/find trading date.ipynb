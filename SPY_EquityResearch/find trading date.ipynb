{
 "cells": [
  {
   "cell_type": "code",
   "execution_count": 1,
   "metadata": {},
   "outputs": [],
   "source": [
    "import pandas as pd\n"
   ]
  },
  {
   "cell_type": "code",
   "execution_count": 2,
   "metadata": {},
   "outputs": [],
   "source": [
    "raw = pd.read_excel('11111111.xlsx')\n",
    "raw['Ticker'] = raw['Ticker'].str.replace(\" US\",'');"
   ]
  },
  {
   "cell_type": "code",
   "execution_count": 3,
   "metadata": {},
   "outputs": [],
   "source": [
    "raw.head()\n",
    "raw['Date'] = pd.to_datetime(raw['Date'])"
   ]
  },
  {
   "cell_type": "code",
   "execution_count": 4,
   "metadata": {},
   "outputs": [
    {
     "data": {
      "text/html": [
       "<div>\n",
       "<style scoped>\n",
       "    .dataframe tbody tr th:only-of-type {\n",
       "        vertical-align: middle;\n",
       "    }\n",
       "\n",
       "    .dataframe tbody tr th {\n",
       "        vertical-align: top;\n",
       "    }\n",
       "\n",
       "    .dataframe thead th {\n",
       "        text-align: right;\n",
       "    }\n",
       "</style>\n",
       "<table border=\"1\" class=\"dataframe\">\n",
       "  <thead>\n",
       "    <tr style=\"text-align: right;\">\n",
       "      <th></th>\n",
       "      <th>Name</th>\n",
       "      <th>Ticker</th>\n",
       "      <th>Date</th>\n",
       "      <th>Period</th>\n",
       "      <th>Actual</th>\n",
       "      <th>Estimate</th>\n",
       "      <th>Surprise</th>\n",
       "      <th>Description</th>\n",
       "      <th>Sales Estimate</th>\n",
       "    </tr>\n",
       "  </thead>\n",
       "  <tbody>\n",
       "    <tr>\n",
       "      <td>0</td>\n",
       "      <td>3M Co</td>\n",
       "      <td>MMM</td>\n",
       "      <td>2019-10-24 06:30:00</td>\n",
       "      <td>Q3 19</td>\n",
       "      <td>2.58</td>\n",
       "      <td>2.492</td>\n",
       "      <td>3.3</td>\n",
       "      <td>Q3 2019 Earnings Release</td>\n",
       "      <td>NaN</td>\n",
       "    </tr>\n",
       "    <tr>\n",
       "      <td>1</td>\n",
       "      <td>3M Co</td>\n",
       "      <td>MMM</td>\n",
       "      <td>2019-07-25 06:30:00</td>\n",
       "      <td>Q2 19</td>\n",
       "      <td>2.20</td>\n",
       "      <td>2.053</td>\n",
       "      <td>7.2</td>\n",
       "      <td>Q2 2019 Earnings Release</td>\n",
       "      <td>NaN</td>\n",
       "    </tr>\n",
       "    <tr>\n",
       "      <td>2</td>\n",
       "      <td>Kroger Co/The</td>\n",
       "      <td>KR</td>\n",
       "      <td>2018-06-21 08:01:00</td>\n",
       "      <td>Q1 19</td>\n",
       "      <td>0.73</td>\n",
       "      <td>0.633</td>\n",
       "      <td>15.3</td>\n",
       "      <td>Q1 2019 Earnings Release</td>\n",
       "      <td>NaN</td>\n",
       "    </tr>\n",
       "    <tr>\n",
       "      <td>3</td>\n",
       "      <td>3M Co</td>\n",
       "      <td>MMM</td>\n",
       "      <td>2019-01-29 06:30:00</td>\n",
       "      <td>Q4 18</td>\n",
       "      <td>2.31</td>\n",
       "      <td>2.276</td>\n",
       "      <td>1.5</td>\n",
       "      <td>Q4 2018 Earnings Release</td>\n",
       "      <td>NaN</td>\n",
       "    </tr>\n",
       "    <tr>\n",
       "      <td>4</td>\n",
       "      <td>3M Co</td>\n",
       "      <td>MMM</td>\n",
       "      <td>2018-10-23 07:30:00</td>\n",
       "      <td>Q3 18</td>\n",
       "      <td>2.58</td>\n",
       "      <td>2.702</td>\n",
       "      <td>-4.5</td>\n",
       "      <td>Q3 2018 Earnings Release</td>\n",
       "      <td>NaN</td>\n",
       "    </tr>\n",
       "  </tbody>\n",
       "</table>\n",
       "</div>"
      ],
      "text/plain": [
       "            Name Ticker                Date  Period  Actual  Estimate  \\\n",
       "0          3M Co    MMM 2019-10-24 06:30:00  Q3 19     2.58     2.492   \n",
       "1          3M Co    MMM 2019-07-25 06:30:00  Q2 19     2.20     2.053   \n",
       "2  Kroger Co/The     KR 2018-06-21 08:01:00  Q1 19     0.73     0.633   \n",
       "3          3M Co    MMM 2019-01-29 06:30:00  Q4 18     2.31     2.276   \n",
       "4          3M Co    MMM 2018-10-23 07:30:00  Q3 18     2.58     2.702   \n",
       "\n",
       "   Surprise               Description  Sales Estimate  \n",
       "0       3.3  Q3 2019 Earnings Release             NaN  \n",
       "1       7.2  Q2 2019 Earnings Release             NaN  \n",
       "2      15.3  Q1 2019 Earnings Release             NaN  \n",
       "3       1.5  Q4 2018 Earnings Release             NaN  \n",
       "4      -4.5  Q3 2018 Earnings Release             NaN  "
      ]
     },
     "execution_count": 4,
     "metadata": {},
     "output_type": "execute_result"
    }
   ],
   "source": [
    "raw.head()"
   ]
  },
  {
   "cell_type": "code",
   "execution_count": 5,
   "metadata": {},
   "outputs": [
    {
     "data": {
      "text/plain": [
       "'Q3 19 '"
      ]
     },
     "execution_count": 5,
     "metadata": {},
     "output_type": "execute_result"
    }
   ],
   "source": [
    "raw['Period'][0]"
   ]
  },
  {
   "cell_type": "code",
   "execution_count": 6,
   "metadata": {},
   "outputs": [],
   "source": [
    "mQ119 = raw['Period'] == \"Q1 19 \"\n",
    "m2019 = raw['Date'].dt.year == 2019\n",
    "df1 = raw[mQ119&m2019]\n",
    "part1 = df1[ ['Ticker', 'Date','Actual', 'Estimate']]"
   ]
  },
  {
   "cell_type": "code",
   "execution_count": 7,
   "metadata": {},
   "outputs": [
    {
     "data": {
      "text/plain": [
       "Index(['Ticker', 'Date', 'Actual', 'Estimate'], dtype='object')"
      ]
     },
     "execution_count": 7,
     "metadata": {},
     "output_type": "execute_result"
    }
   ],
   "source": [
    "part1.columns"
   ]
  },
  {
   "cell_type": "code",
   "execution_count": 8,
   "metadata": {},
   "outputs": [],
   "source": [
    "part1_names = df1.Name.value_counts().index\n",
    "# mask_othername = raw['Name'] != part1_names\n",
    "# df2 = raw[mask_othername]"
   ]
  },
  {
   "cell_type": "code",
   "execution_count": 9,
   "metadata": {},
   "outputs": [],
   "source": [
    "def Part2(name):\n",
    "    if name not in part1_names:\n",
    "        return True\n",
    "    return False"
   ]
  },
  {
   "cell_type": "code",
   "execution_count": 10,
   "metadata": {},
   "outputs": [],
   "source": [
    "raw['isP2']=raw['Name'].apply(Part2)\n",
    "df2 = raw[raw['isP2']]"
   ]
  },
  {
   "cell_type": "code",
   "execution_count": 11,
   "metadata": {},
   "outputs": [],
   "source": [
    "df2 = df2[df2['Date'].dt.year==2019]"
   ]
  },
  {
   "cell_type": "code",
   "execution_count": 12,
   "metadata": {},
   "outputs": [],
   "source": [
    "part2 = df2.sort_values('Date').groupby('Name').first()[ ['Ticker', 'Date','Actual', 'Estimate']]"
   ]
  },
  {
   "cell_type": "code",
   "execution_count": 13,
   "metadata": {},
   "outputs": [],
   "source": [
    "new_df = pd.concat([part1,part2])\n",
    "new_df.to_csv('EPS.csv',index=False)"
   ]
  },
  {
   "cell_type": "code",
   "execution_count": 14,
   "metadata": {},
   "outputs": [
    {
     "data": {
      "text/html": [
       "<div>\n",
       "<style scoped>\n",
       "    .dataframe tbody tr th:only-of-type {\n",
       "        vertical-align: middle;\n",
       "    }\n",
       "\n",
       "    .dataframe tbody tr th {\n",
       "        vertical-align: top;\n",
       "    }\n",
       "\n",
       "    .dataframe thead th {\n",
       "        text-align: right;\n",
       "    }\n",
       "</style>\n",
       "<table border=\"1\" class=\"dataframe\">\n",
       "  <thead>\n",
       "    <tr style=\"text-align: right;\">\n",
       "      <th></th>\n",
       "      <th>Ticker</th>\n",
       "      <th>Date</th>\n",
       "      <th>Actual</th>\n",
       "      <th>Estimate</th>\n",
       "    </tr>\n",
       "  </thead>\n",
       "  <tbody>\n",
       "    <tr>\n",
       "      <td>0</td>\n",
       "      <td>TEL</td>\n",
       "      <td>2019-01-23 06:00:00</td>\n",
       "      <td>1.29</td>\n",
       "      <td>1.279</td>\n",
       "    </tr>\n",
       "    <tr>\n",
       "      <td>1</td>\n",
       "      <td>FFIV</td>\n",
       "      <td>2019-01-23 16:05:00</td>\n",
       "      <td>2.70</td>\n",
       "      <td>2.535</td>\n",
       "    </tr>\n",
       "    <tr>\n",
       "      <td>2</td>\n",
       "      <td>VAR</td>\n",
       "      <td>2019-01-23 16:06:00</td>\n",
       "      <td>1.06</td>\n",
       "      <td>1.084</td>\n",
       "    </tr>\n",
       "    <tr>\n",
       "      <td>3</td>\n",
       "      <td>RJF</td>\n",
       "      <td>2019-01-23 16:23:00</td>\n",
       "      <td>1.79</td>\n",
       "      <td>1.719</td>\n",
       "    </tr>\n",
       "    <tr>\n",
       "      <td>4</td>\n",
       "      <td>SBUX</td>\n",
       "      <td>2019-01-24 16:05:00</td>\n",
       "      <td>0.75</td>\n",
       "      <td>0.649</td>\n",
       "    </tr>\n",
       "  </tbody>\n",
       "</table>\n",
       "</div>"
      ],
      "text/plain": [
       "  Ticker                 Date  Actual  Estimate\n",
       "0    TEL  2019-01-23 06:00:00    1.29     1.279\n",
       "1   FFIV  2019-01-23 16:05:00    2.70     2.535\n",
       "2    VAR  2019-01-23 16:06:00    1.06     1.084\n",
       "3    RJF  2019-01-23 16:23:00    1.79     1.719\n",
       "4   SBUX  2019-01-24 16:05:00    0.75     0.649"
      ]
     },
     "execution_count": 14,
     "metadata": {},
     "output_type": "execute_result"
    }
   ],
   "source": [
    "EPS = pd.read_csv('EPS.csv',keep_date_col=True)\n",
    "EPS.head()\n"
   ]
  },
  {
   "cell_type": "code",
   "execution_count": 15,
   "metadata": {},
   "outputs": [],
   "source": [
    "EPS['Time'] = pd.to_datetime(EPS['Date'] )\n",
    "EPS['Datedt'] = EPS['Time'].dt.date\n",
    "EPS.head()\n",
    "EPS['Date']  = EPS['Date'].str[:10]"
   ]
  },
  {
   "cell_type": "code",
   "execution_count": 16,
   "metadata": {},
   "outputs": [],
   "source": [
    "SPY = pd.read_csv('SPY.csv')"
   ]
  },
  {
   "cell_type": "code",
   "execution_count": 17,
   "metadata": {},
   "outputs": [],
   "source": [
    "SPY = pd.read_csv('SPY.csv')\n",
    "SPY['Date']  = SPY['Date'].str[:10]\n",
    "\n",
    "\n",
    "SPY['Datedt']= pd.to_datetime(SPY['Date'] ).dt.date\n",
    "# trading_Dates = SPY['Datedt'].str[:10]\n",
    "trading_Dates = pd.to_datetime(SPY['Date'] ).dt.date\n",
    "SPY.set_index('Datedt',inplace=True)\n"
   ]
  },
  {
   "cell_type": "code",
   "execution_count": 18,
   "metadata": {},
   "outputs": [],
   "source": [
    "\n",
    "DateNumDict = {date:num for date,num in zip(trading_Dates.values,trading_Dates.index)}\n",
    "NumDateDict = {num:date for date,num in zip(trading_Dates.values,trading_Dates.index)}"
   ]
  },
  {
   "cell_type": "code",
   "execution_count": 19,
   "metadata": {},
   "outputs": [],
   "source": [
    "import datetime\n",
    "def findminus30d(date0):\n",
    "#     print(\"date0dt is \",(date0),f\"with type({type(date0)})\")\n",
    "    if date0 in DateNumDict.keys():\n",
    "    \n",
    "        date0num = DateNumDict[date0]\n",
    "    elif (date0+datetime.timedelta(days=1)) in DateNumDict.keys():\n",
    "        print('+1')\n",
    "        date0num = DateNumDict[(date0+datetime.timedelta(days=1))]\n",
    "    elif (date0+datetime.timedelta(days=2)) in DateNumDict.keys():\n",
    "        print('+2')\n",
    "        date0num = DateNumDict[(date0+datetime.timedelta(days=2))]\n",
    "    elif (date0-datetime.timedelta(days=1)) in DateNumDict.keys():\n",
    "        print('-1')\n",
    "        date0num = DateNumDict[(date0-datetime.timedelta(days=1))]\n",
    "    else:\n",
    "        date0num = DateNumDict[(date0-datetime.timedelta(days=2))]\n",
    "            \n",
    "    d_30 = NumDateDict[(date0num-30)]\n",
    "    d30 = NumDateDict[(date0num+30)]\n",
    "    return d_30\n",
    "def find30d(date0):\n",
    "#     print(\"date0dt is \",(date0),f\"with type({type(date0)})\")\n",
    "    if date0 in DateNumDict.keys():\n",
    "    \n",
    "        date0num = DateNumDict[date0]\n",
    "    elif (date0+datetime.timedelta(days=1)) in DateNumDict.keys():\n",
    "        print('+1')\n",
    "        date0num = DateNumDict[(date0+datetime.timedelta(days=1))]\n",
    "    elif (date0+datetime.timedelta(days=2)) in DateNumDict.keys():\n",
    "        print('+2')\n",
    "        date0num = DateNumDict[(date0+datetime.timedelta(days=2))]\n",
    "    elif (date0-datetime.timedelta(days=1)) in DateNumDict.keys():\n",
    "        print('-1')\n",
    "        date0num = DateNumDict[(date0-datetime.timedelta(days=1))]\n",
    "    else:\n",
    "        date0num = DateNumDict[(date0-datetime.timedelta(days=2))]\n",
    "    d30 = NumDateDict[(date0num+30)]\n",
    "    return d30\n",
    "def count_day(x):\n",
    "    s = x[0]\n",
    "    e = x[1]\n",
    "    return(len(SPY[s:e]))"
   ]
  },
  {
   "cell_type": "code",
   "execution_count": 20,
   "metadata": {},
   "outputs": [
    {
     "name": "stdout",
     "output_type": "stream",
     "text": [
      "+2\n",
      "+1\n",
      "+1\n",
      "+2\n",
      "+1\n",
      "+1\n"
     ]
    }
   ],
   "source": [
    "EPS['date_minus_30'] = EPS['Datedt'].apply(findminus30d)\n",
    "EPS['date_30'] = EPS['Datedt'].apply(find30d)"
   ]
  },
  {
   "cell_type": "code",
   "execution_count": 21,
   "metadata": {},
   "outputs": [],
   "source": [
    "EPS['no_days']  = EPS[['date_minus_30','date_30']].apply(count_day,axis=1)"
   ]
  },
  {
   "cell_type": "code",
   "execution_count": 22,
   "metadata": {},
   "outputs": [],
   "source": [
    "for day in EPS['date_minus_30'].values:\n",
    "    if day not in trading_Dates.values:\n",
    "        print('not trading date')"
   ]
  },
  {
   "cell_type": "code",
   "execution_count": 23,
   "metadata": {},
   "outputs": [],
   "source": [
    "for day in EPS['date_30'].values:\n",
    "    if day not in trading_Dates.values:\n",
    "        print('not trading date')\n",
    "    "
   ]
  },
  {
   "cell_type": "code",
   "execution_count": 24,
   "metadata": {},
   "outputs": [
    {
     "data": {
      "text/plain": [
       "Index(['Ticker', 'Date', 'Actual', 'Estimate', 'Time', 'Datedt',\n",
       "       'date_minus_30', 'date_30', 'no_days'],\n",
       "      dtype='object')"
      ]
     },
     "execution_count": 24,
     "metadata": {},
     "output_type": "execute_result"
    }
   ],
   "source": [
    "EPS.columns"
   ]
  },
  {
   "cell_type": "code",
   "execution_count": 25,
   "metadata": {},
   "outputs": [],
   "source": [
    "EPS[['Ticker',  'Actual', 'Estimate','Time','Date','date_minus_30', 'date_30']].to_csv('EPS_date.csv',index=False)"
   ]
  },
  {
   "cell_type": "code",
   "execution_count": 26,
   "metadata": {},
   "outputs": [
    {
     "data": {
      "text/html": [
       "<div>\n",
       "<style scoped>\n",
       "    .dataframe tbody tr th:only-of-type {\n",
       "        vertical-align: middle;\n",
       "    }\n",
       "\n",
       "    .dataframe tbody tr th {\n",
       "        vertical-align: top;\n",
       "    }\n",
       "\n",
       "    .dataframe thead th {\n",
       "        text-align: right;\n",
       "    }\n",
       "</style>\n",
       "<table border=\"1\" class=\"dataframe\">\n",
       "  <thead>\n",
       "    <tr style=\"text-align: right;\">\n",
       "      <th></th>\n",
       "      <th>Ticker</th>\n",
       "      <th>Actual</th>\n",
       "      <th>Estimate</th>\n",
       "      <th>Time</th>\n",
       "      <th>Date</th>\n",
       "      <th>date_minus_30</th>\n",
       "      <th>date_30</th>\n",
       "    </tr>\n",
       "  </thead>\n",
       "  <tbody>\n",
       "    <tr>\n",
       "      <td>0</td>\n",
       "      <td>TEL</td>\n",
       "      <td>1.29</td>\n",
       "      <td>1.279</td>\n",
       "      <td>2019-01-23 06:00:00</td>\n",
       "      <td>2019-01-23</td>\n",
       "      <td>2018-12-07</td>\n",
       "      <td>2019-03-07</td>\n",
       "    </tr>\n",
       "    <tr>\n",
       "      <td>1</td>\n",
       "      <td>FFIV</td>\n",
       "      <td>2.70</td>\n",
       "      <td>2.535</td>\n",
       "      <td>2019-01-23 16:05:00</td>\n",
       "      <td>2019-01-23</td>\n",
       "      <td>2018-12-07</td>\n",
       "      <td>2019-03-07</td>\n",
       "    </tr>\n",
       "    <tr>\n",
       "      <td>2</td>\n",
       "      <td>VAR</td>\n",
       "      <td>1.06</td>\n",
       "      <td>1.084</td>\n",
       "      <td>2019-01-23 16:06:00</td>\n",
       "      <td>2019-01-23</td>\n",
       "      <td>2018-12-07</td>\n",
       "      <td>2019-03-07</td>\n",
       "    </tr>\n",
       "    <tr>\n",
       "      <td>3</td>\n",
       "      <td>RJF</td>\n",
       "      <td>1.79</td>\n",
       "      <td>1.719</td>\n",
       "      <td>2019-01-23 16:23:00</td>\n",
       "      <td>2019-01-23</td>\n",
       "      <td>2018-12-07</td>\n",
       "      <td>2019-03-07</td>\n",
       "    </tr>\n",
       "    <tr>\n",
       "      <td>4</td>\n",
       "      <td>SBUX</td>\n",
       "      <td>0.75</td>\n",
       "      <td>0.649</td>\n",
       "      <td>2019-01-24 16:05:00</td>\n",
       "      <td>2019-01-24</td>\n",
       "      <td>2018-12-10</td>\n",
       "      <td>2019-03-08</td>\n",
       "    </tr>\n",
       "    <tr>\n",
       "      <td>...</td>\n",
       "      <td>...</td>\n",
       "      <td>...</td>\n",
       "      <td>...</td>\n",
       "      <td>...</td>\n",
       "      <td>...</td>\n",
       "      <td>...</td>\n",
       "      <td>...</td>\n",
       "    </tr>\n",
       "    <tr>\n",
       "      <td>495</td>\n",
       "      <td>WBA</td>\n",
       "      <td>1.64</td>\n",
       "      <td>1.719</td>\n",
       "      <td>2019-04-02 07:00:00</td>\n",
       "      <td>2019-04-02</td>\n",
       "      <td>2019-02-19</td>\n",
       "      <td>2019-05-15</td>\n",
       "    </tr>\n",
       "    <tr>\n",
       "      <td>496</td>\n",
       "      <td>WMT</td>\n",
       "      <td>1.41</td>\n",
       "      <td>1.336</td>\n",
       "      <td>2019-02-19 07:01:00</td>\n",
       "      <td>2019-02-19</td>\n",
       "      <td>2019-01-04</td>\n",
       "      <td>2019-04-02</td>\n",
       "    </tr>\n",
       "    <tr>\n",
       "      <td>497</td>\n",
       "      <td>WDC</td>\n",
       "      <td>1.45</td>\n",
       "      <td>1.497</td>\n",
       "      <td>2019-01-24 16:10:00</td>\n",
       "      <td>2019-01-24</td>\n",
       "      <td>2018-12-10</td>\n",
       "      <td>2019-03-08</td>\n",
       "    </tr>\n",
       "    <tr>\n",
       "      <td>498</td>\n",
       "      <td>XLNX</td>\n",
       "      <td>0.93</td>\n",
       "      <td>0.844</td>\n",
       "      <td>2019-01-23 16:20:00</td>\n",
       "      <td>2019-01-23</td>\n",
       "      <td>2018-12-07</td>\n",
       "      <td>2019-03-07</td>\n",
       "    </tr>\n",
       "    <tr>\n",
       "      <td>499</td>\n",
       "      <td>CRM</td>\n",
       "      <td>0.33</td>\n",
       "      <td>0.553</td>\n",
       "      <td>2019-03-04 16:05:00</td>\n",
       "      <td>2019-03-04</td>\n",
       "      <td>2019-01-17</td>\n",
       "      <td>2019-04-15</td>\n",
       "    </tr>\n",
       "  </tbody>\n",
       "</table>\n",
       "<p>500 rows × 7 columns</p>\n",
       "</div>"
      ],
      "text/plain": [
       "    Ticker  Actual  Estimate                Time        Date date_minus_30  \\\n",
       "0      TEL    1.29     1.279 2019-01-23 06:00:00  2019-01-23    2018-12-07   \n",
       "1     FFIV    2.70     2.535 2019-01-23 16:05:00  2019-01-23    2018-12-07   \n",
       "2      VAR    1.06     1.084 2019-01-23 16:06:00  2019-01-23    2018-12-07   \n",
       "3      RJF    1.79     1.719 2019-01-23 16:23:00  2019-01-23    2018-12-07   \n",
       "4     SBUX    0.75     0.649 2019-01-24 16:05:00  2019-01-24    2018-12-10   \n",
       "..     ...     ...       ...                 ...         ...           ...   \n",
       "495    WBA    1.64     1.719 2019-04-02 07:00:00  2019-04-02    2019-02-19   \n",
       "496    WMT    1.41     1.336 2019-02-19 07:01:00  2019-02-19    2019-01-04   \n",
       "497    WDC    1.45     1.497 2019-01-24 16:10:00  2019-01-24    2018-12-10   \n",
       "498   XLNX    0.93     0.844 2019-01-23 16:20:00  2019-01-23    2018-12-07   \n",
       "499    CRM    0.33     0.553 2019-03-04 16:05:00  2019-03-04    2019-01-17   \n",
       "\n",
       "        date_30  \n",
       "0    2019-03-07  \n",
       "1    2019-03-07  \n",
       "2    2019-03-07  \n",
       "3    2019-03-07  \n",
       "4    2019-03-08  \n",
       "..          ...  \n",
       "495  2019-05-15  \n",
       "496  2019-04-02  \n",
       "497  2019-03-08  \n",
       "498  2019-03-07  \n",
       "499  2019-04-15  \n",
       "\n",
       "[500 rows x 7 columns]"
      ]
     },
     "execution_count": 26,
     "metadata": {},
     "output_type": "execute_result"
    }
   ],
   "source": [
    "EPS[['Ticker', 'Actual', 'Estimate', 'Time','Date','date_minus_30', 'date_30']]"
   ]
  },
  {
   "cell_type": "code",
   "execution_count": 55,
   "metadata": {},
   "outputs": [
    {
     "data": {
      "text/html": [
       "<div>\n",
       "<style scoped>\n",
       "    .dataframe tbody tr th:only-of-type {\n",
       "        vertical-align: middle;\n",
       "    }\n",
       "\n",
       "    .dataframe tbody tr th {\n",
       "        vertical-align: top;\n",
       "    }\n",
       "\n",
       "    .dataframe thead th {\n",
       "        text-align: right;\n",
       "    }\n",
       "</style>\n",
       "<table border=\"1\" class=\"dataframe\">\n",
       "  <thead>\n",
       "    <tr style=\"text-align: right;\">\n",
       "      <th></th>\n",
       "      <th>Ticker</th>\n",
       "      <th>Date</th>\n",
       "      <th>Actual</th>\n",
       "      <th>Estimate</th>\n",
       "      <th>Time</th>\n",
       "      <th>Datedt</th>\n",
       "      <th>date_minus_30</th>\n",
       "      <th>date_30</th>\n",
       "      <th>no_days</th>\n",
       "      <th>surp</th>\n",
       "    </tr>\n",
       "  </thead>\n",
       "  <tbody>\n",
       "    <tr>\n",
       "      <td>377</td>\n",
       "      <td>BRK/A</td>\n",
       "      <td>2019-05-04</td>\n",
       "      <td>3387.56</td>\n",
       "      <td>3399.097</td>\n",
       "      <td>2019-05-04 08:00:00</td>\n",
       "      <td>2019-05-04</td>\n",
       "      <td>2019-03-22</td>\n",
       "      <td>2019-06-18</td>\n",
       "      <td>61</td>\n",
       "      <td>-0.003394</td>\n",
       "    </tr>\n",
       "  </tbody>\n",
       "</table>\n",
       "</div>"
      ],
      "text/plain": [
       "    Ticker        Date   Actual  Estimate                Time      Datedt  \\\n",
       "377  BRK/A  2019-05-04  3387.56  3399.097 2019-05-04 08:00:00  2019-05-04   \n",
       "\n",
       "    date_minus_30     date_30  no_days      surp  \n",
       "377    2019-03-22  2019-06-18       61 -0.003394  "
      ]
     },
     "execution_count": 55,
     "metadata": {},
     "output_type": "execute_result"
    }
   ],
   "source": [
    "EPS[EPS['Ticker']=='BRK/A']"
   ]
  },
  {
   "cell_type": "code",
   "execution_count": 43,
   "metadata": {},
   "outputs": [
    {
     "ename": "SyntaxError",
     "evalue": "EOL while scanning string literal (<ipython-input-43-6c91facf5801>, line 2)",
     "output_type": "error",
     "traceback": [
      "\u001b[0;36m  File \u001b[0;32m\"<ipython-input-43-6c91facf5801>\"\u001b[0;36m, line \u001b[0;32m2\u001b[0m\n\u001b[0;31m    df['bask'] = df['Ticker'].apply(lambda x:('\\' in x))\u001b[0m\n\u001b[0m                                                        ^\u001b[0m\n\u001b[0;31mSyntaxError\u001b[0m\u001b[0;31m:\u001b[0m EOL while scanning string literal\n"
     ]
    }
   ],
   "source": [
    "df = EPS.copy()\n",
    "df['bask'] = df['Ticker'].apply(lambda x:)\n",
    "df[df['bask']==True]"
   ]
  },
  {
   "cell_type": "code",
   "execution_count": 52,
   "metadata": {},
   "outputs": [],
   "source": [
    "st = \"dfd\\vd\".replace(\"\\\\\",\"\\\\\\\\\")"
   ]
  },
  {
   "cell_type": "code",
   "execution_count": 53,
   "metadata": {},
   "outputs": [
    {
     "data": {
      "text/plain": [
       "'dfd\\x0bd'"
      ]
     },
     "execution_count": 53,
     "metadata": {},
     "output_type": "execute_result"
    }
   ],
   "source": [
    "st"
   ]
  },
  {
   "cell_type": "code",
   "execution_count": 49,
   "metadata": {},
   "outputs": [
    {
     "data": {
      "text/plain": [
       "'\\\\'"
      ]
     },
     "execution_count": 49,
     "metadata": {},
     "output_type": "execute_result"
    }
   ],
   "source": [
    "\"\\\\\\\\\""
   ]
  },
  {
   "cell_type": "code",
   "execution_count": 40,
   "metadata": {},
   "outputs": [
    {
     "data": {
      "text/plain": [
       "0      False\n",
       "1      False\n",
       "2      False\n",
       "3      False\n",
       "4      False\n",
       "       ...  \n",
       "495    False\n",
       "496    False\n",
       "497    False\n",
       "498    False\n",
       "499    False\n",
       "Name: Ticker, Length: 500, dtype: bool"
      ]
     },
     "execution_count": 40,
     "metadata": {},
     "output_type": "execute_result"
    }
   ],
   "source": [
    "df['bask'] = df['Ticker'].apply(lambda x:('\\\\' in x))e"
   ]
  },
  {
   "cell_type": "code",
   "execution_count": 34,
   "metadata": {},
   "outputs": [
    {
     "data": {
      "text/plain": [
       "0     2019-03-07\n",
       "1     2019-03-07\n",
       "2     2019-03-07\n",
       "3     2019-03-07\n",
       "4     2019-03-08\n",
       "5     2019-03-11\n",
       "6     2019-03-11\n",
       "7     2019-03-13\n",
       "8     2019-03-13\n",
       "9     2019-03-13\n",
       "10    2019-03-14\n",
       "11    2019-03-14\n",
       "12    2019-03-14\n",
       "13    2019-03-14\n",
       "14    2019-03-15\n",
       "15    2019-03-15\n",
       "16    2019-03-18\n",
       "17    2019-03-20\n",
       "18    2019-03-20\n",
       "19    2019-03-20\n",
       "20    2019-03-20\n",
       "21    2019-03-20\n",
       "22    2019-03-20\n",
       "23    2019-03-20\n",
       "24    2019-03-21\n",
       "25    2019-03-22\n",
       "26    2019-03-29\n",
       "27    2019-04-01\n",
       "28    2019-04-03\n",
       "29    2019-04-03\n",
       "30    2019-04-03\n",
       "31    2019-04-04\n",
       "32    2019-04-04\n",
       "33    2019-04-04\n",
       "34    2019-04-10\n",
       "35    2019-04-16\n",
       "36    2019-04-26\n",
       "37    2019-04-26\n",
       "38    2019-05-08\n",
       "39    2019-05-08\n",
       "40    2019-05-08\n",
       "41    2019-05-09\n",
       "42    2019-05-23\n",
       "43    2019-05-24\n",
       "44    2019-05-28\n",
       "45    2019-05-28\n",
       "46    2019-05-28\n",
       "47    2019-05-28\n",
       "48    2019-05-29\n",
       "49    2019-05-29\n",
       "Name: date_30, dtype: object"
      ]
     },
     "execution_count": 34,
     "metadata": {},
     "output_type": "execute_result"
    }
   ],
   "source": [
    "EPS.date_30[:50]"
   ]
  },
  {
   "cell_type": "code",
   "execution_count": 27,
   "metadata": {},
   "outputs": [
    {
     "data": {
      "text/plain": [
       "'2019-01-04'"
      ]
     },
     "execution_count": 27,
     "metadata": {},
     "output_type": "execute_result"
    }
   ],
   "source": [
    "EPS.Date.min()"
   ]
  },
  {
   "cell_type": "code",
   "execution_count": 38,
   "metadata": {},
   "outputs": [
    {
     "data": {
      "text/html": [
       "<div>\n",
       "<style scoped>\n",
       "    .dataframe tbody tr th:only-of-type {\n",
       "        vertical-align: middle;\n",
       "    }\n",
       "\n",
       "    .dataframe tbody tr th {\n",
       "        vertical-align: top;\n",
       "    }\n",
       "\n",
       "    .dataframe thead th {\n",
       "        text-align: right;\n",
       "    }\n",
       "</style>\n",
       "<table border=\"1\" class=\"dataframe\">\n",
       "  <thead>\n",
       "    <tr style=\"text-align: right;\">\n",
       "      <th></th>\n",
       "      <th>Ticker</th>\n",
       "      <th>Date</th>\n",
       "      <th>Actual</th>\n",
       "      <th>Estimate</th>\n",
       "      <th>Time</th>\n",
       "      <th>Datedt</th>\n",
       "      <th>date_minus_30</th>\n",
       "      <th>date_30</th>\n",
       "      <th>no_days</th>\n",
       "      <th>surp</th>\n",
       "    </tr>\n",
       "  </thead>\n",
       "  <tbody>\n",
       "    <tr>\n",
       "      <td>427</td>\n",
       "      <td>BF/B</td>\n",
       "      <td>2019-03-06</td>\n",
       "      <td>0.47</td>\n",
       "      <td>0.449</td>\n",
       "      <td>2019-03-06 07:45:00</td>\n",
       "      <td>2019-03-06</td>\n",
       "      <td>2019-01-22</td>\n",
       "      <td>2019-04-17</td>\n",
       "      <td>61</td>\n",
       "      <td>0.046771</td>\n",
       "    </tr>\n",
       "  </tbody>\n",
       "</table>\n",
       "</div>"
      ],
      "text/plain": [
       "    Ticker        Date  Actual  Estimate                Time      Datedt  \\\n",
       "427   BF/B  2019-03-06    0.47     0.449 2019-03-06 07:45:00  2019-03-06   \n",
       "\n",
       "    date_minus_30     date_30  no_days      surp  \n",
       "427    2019-01-22  2019-04-17       61  0.046771  "
      ]
     },
     "execution_count": 38,
     "metadata": {},
     "output_type": "execute_result"
    }
   ],
   "source": [
    "EPS[EPS['Ticker']=='BF/B']"
   ]
  },
  {
   "cell_type": "code",
   "execution_count": 28,
   "metadata": {},
   "outputs": [],
   "source": [
    "EPS['surp'] = (EPS['Actual']-EPS['Estimate'])/EPS['Estimate']"
   ]
  },
  {
   "cell_type": "code",
   "execution_count": 29,
   "metadata": {},
   "outputs": [
    {
     "data": {
      "text/plain": [
       "<matplotlib.axes._subplots.AxesSubplot at 0x1a20590390>"
      ]
     },
     "execution_count": 29,
     "metadata": {},
     "output_type": "execute_result"
    },
    {
     "data": {
      "image/png": "[encoded data removed]",
      "text/plain": [
       "<Figure size 432x288 with 1 Axes>"
      ]
     },
     "metadata": {
      "needs_background": "light"
     },
     "output_type": "display_data"
    }
   ],
   "source": [
    "%matplotlib inline\n",
    "import seaborn as sns\n",
    "sns.distplot(EPS['surp'])"
   ]
  },
  {
   "cell_type": "code",
   "execution_count": 30,
   "metadata": {},
   "outputs": [
    {
     "data": {
      "text/html": [
       "<div>\n",
       "<style scoped>\n",
       "    .dataframe tbody tr th:only-of-type {\n",
       "        vertical-align: middle;\n",
       "    }\n",
       "\n",
       "    .dataframe tbody tr th {\n",
       "        vertical-align: top;\n",
       "    }\n",
       "\n",
       "    .dataframe thead th {\n",
       "        text-align: right;\n",
       "    }\n",
       "</style>\n",
       "<table border=\"1\" class=\"dataframe\">\n",
       "  <thead>\n",
       "    <tr style=\"text-align: right;\">\n",
       "      <th></th>\n",
       "      <th>Actual</th>\n",
       "      <th>Estimate</th>\n",
       "      <th>no_days</th>\n",
       "      <th>surp</th>\n",
       "    </tr>\n",
       "  </thead>\n",
       "  <tbody>\n",
       "    <tr>\n",
       "      <td>count</td>\n",
       "      <td>500.000000</td>\n",
       "      <td>500.000000</td>\n",
       "      <td>500.0</td>\n",
       "      <td>500.000000</td>\n",
       "    </tr>\n",
       "    <tr>\n",
       "      <td>mean</td>\n",
       "      <td>8.337980</td>\n",
       "      <td>8.257890</td>\n",
       "      <td>61.0</td>\n",
       "      <td>-0.042647</td>\n",
       "    </tr>\n",
       "    <tr>\n",
       "      <td>std</td>\n",
       "      <td>151.446505</td>\n",
       "      <td>151.959465</td>\n",
       "      <td>0.0</td>\n",
       "      <td>2.309797</td>\n",
       "    </tr>\n",
       "    <tr>\n",
       "      <td>min</td>\n",
       "      <td>-0.580000</td>\n",
       "      <td>-0.552000</td>\n",
       "      <td>61.0</td>\n",
       "      <td>-51.000000</td>\n",
       "    </tr>\n",
       "    <tr>\n",
       "      <td>25%</td>\n",
       "      <td>0.680000</td>\n",
       "      <td>0.658500</td>\n",
       "      <td>61.0</td>\n",
       "      <td>0.002659</td>\n",
       "    </tr>\n",
       "    <tr>\n",
       "      <td>50%</td>\n",
       "      <td>1.130000</td>\n",
       "      <td>1.055500</td>\n",
       "      <td>61.0</td>\n",
       "      <td>0.042448</td>\n",
       "    </tr>\n",
       "    <tr>\n",
       "      <td>75%</td>\n",
       "      <td>1.840000</td>\n",
       "      <td>1.713750</td>\n",
       "      <td>61.0</td>\n",
       "      <td>0.111111</td>\n",
       "    </tr>\n",
       "    <tr>\n",
       "      <td>max</td>\n",
       "      <td>3387.560000</td>\n",
       "      <td>3399.097000</td>\n",
       "      <td>61.0</td>\n",
       "      <td>3.666667</td>\n",
       "    </tr>\n",
       "  </tbody>\n",
       "</table>\n",
       "</div>"
      ],
      "text/plain": [
       "            Actual     Estimate  no_days        surp\n",
       "count   500.000000   500.000000    500.0  500.000000\n",
       "mean      8.337980     8.257890     61.0   -0.042647\n",
       "std     151.446505   151.959465      0.0    2.309797\n",
       "min      -0.580000    -0.552000     61.0  -51.000000\n",
       "25%       0.680000     0.658500     61.0    0.002659\n",
       "50%       1.130000     1.055500     61.0    0.042448\n",
       "75%       1.840000     1.713750     61.0    0.111111\n",
       "max    3387.560000  3399.097000     61.0    3.666667"
      ]
     },
     "execution_count": 30,
     "metadata": {},
     "output_type": "execute_result"
    }
   ],
   "source": [
    "EPS.describe()"
   ]
  },
  {
   "cell_type": "code",
   "execution_count": null,
   "metadata": {},
   "outputs": [],
   "source": []
  }
 ],
 "metadata": {
  "kernelspec": {
   "display_name": "Python 3",
   "language": "python",
   "name": "python3"
  },
  "language_info": {
   "codemirror_mode": {
    "name": "ipython",
    "version": 3
   },
   "file_extension": ".py",
   "mimetype": "text/x-python",
   "name": "python",
   "nbconvert_exporter": "python",
   "pygments_lexer": "ipython3",
   "version": "3.7.4"
  }
 },
 "nbformat": 4,
 "nbformat_minor": 2
}
